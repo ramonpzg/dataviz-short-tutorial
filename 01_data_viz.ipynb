{
 "cells": [
  {
   "cell_type": "markdown",
   "metadata": {},
   "source": [
    "# <center> <h1>Welcome to Data Visualization in Python</h1> </center>\n",
    "\n",
    "![DataViz](images/beautiful.png)  \n",
    "\n",
    "**Source:** https://informationisbeautiful.net/beautifulnews/"
   ]
  },
  {
   "cell_type": "markdown",
   "metadata": {},
   "source": [
    "> “There is no such thing as information overload. There is only bad design.” ~ Edward Tufte\n",
    "\n",
    "## Outline 4 Today\n",
    "\n",
    "\n",
    "1. Introduction to Data Visualization\n",
    "    - What is DataViz?\n",
    "    - Quantitative vs Qualitative\n",
    "    - Schema for Creating Visualizations\n",
    "    - Static vs Interactive DataViz\n",
    "    - Do's\n",
    "    - Dont's\n",
    "2. Jupyter Lab/Notebook and Python\n",
    "3. Our Project for Tonight\n",
    "4. The Data We'll Use\n",
    "5. Interrogating the Data one Visualization at a Time\n",
    "7. Next steps"
   ]
  },
  {
   "cell_type": "markdown",
   "metadata": {},
   "source": [
    "# 1. Introduction to Data Visualization\n",
    "\n",
    "Data visualisation, more than being part art and part science, is one of the key components of the data analytics cycle. People have different learning styles and to be able to convey information in a more accessible way, sometimes it is better to do so through visualisations rather than tables and written text. So..\n",
    "\n",
    "## 1.1 What is DataViz?\n",
    "\n",
    "> \"Data visualization is the graphical representation of information and data. By using visual elements like charts, graphs, and maps, data visualization tools provide an accessible way to see and understand trends, outliers, and patterns in data.\" ~ [Tableau](https://www.tableau.com/learn/articles/data-visualization)\n",
    "\n",
    "Data Visualization as a field of study has been on the rise for over many decades now --if not centuries-- and it is an exciting area to be a part of. Organisations such as the [Data Visualization Society](https://www.datavisualizationsociety.com/), [FreeCodeCamp](https://www.freecodecamp.org/news/search?query=data%20visualization), and others, have extensive information on how to go beyond simple data visualisation, should that be something that interests you. If you would like to read more about data visualisation and what you can do with it, check out this [medium blog](https://medium.com/nightingale).\n",
    "\n",
    "Python has a wide variety of visualisation tools available for static and interactive, quantitative and qualitative, time series and geographic data visualisation. Some of the most-widely used libraries for these purposes to date, are the following ones:\n",
    "\n",
    "- [matplotlib](https://matplotlib.org/) --> highly customisable and long-term contender in the dataviz arena\n",
    "- [seaborn](https://seaborn.pydata.org) --> beautiful data visualisation library that is easy to use and fast\n",
    "- [bokeh](https://bokeh.org) --> great (and beautiful) tool for interactive data visualisation\n",
    "- [plotly](https://plotly.com/python/) --> bokeh's top contender\n",
    "- [altair](https://altair-viz.github.io/gallery/index.html) --> beautiful data visualisation library based on the grammar of graphics philosophy\n",
    "- [plotnine](https://plotnine.readthedocs.io/en/stable/index.html) --> data visualisation library based on R's ggplot2"
   ]
  },
  {
   "cell_type": "markdown",
   "metadata": {},
   "source": [
    "## 1.2 Quantitative vs Qualitative\n",
    "\n",
    "When we get to the data visualisation stage of the data analytics cycle, we should always keep in mind the nature of the data we would like to visualise. If we want to see relationships (correlations between variables) we might only choose quantitative variables for our visualisations. If we want to show a specific theme in our dataset, e.g. gender differences, customer type, or potential customer, we might just opt for visualising frequencies in qualitative data. In contrast, if we want to show the relationship of variables given a specific group in our dataset (e.g. income differences by gender), we would choose a combination of qualitative and quantitative variables.\n",
    "\n",
    "To give you a more concrete example, I have burrowed the following table from a book that I highly recommend if you want to really get started with data visualization, and that is, _\"Fundamentals of data visualization: A primer on making informative and compelling figures\"_ by Claus O. Wilke.\n",
    "\n",
    "![data_var_types](images/var_types.png)\n",
    "\n",
    "**Source:** Wilke, C. O. (2019). _Fundamentals of data visualization: A primer on making informative and compelling figures._ Sebastopol, CA: O'Reilly Media.\n",
    "\n",
    "Now that we are aware of the subtle differences in data visualization, how do we know which visualisation to create with the data we have? The answer is that, it will depend on the context of your task and on how much information you would like to convey in your visualisation."
   ]
  },
  {
   "cell_type": "markdown",
   "metadata": {},
   "source": [
    "## 1.3 Static vs Interactive Visualizations\n",
    "\n",
    "An important aspect to keep in mind is when creating visualizations is whether we should represent our data in a static or interactive format. As analysts, we should always ask ourselves, will our message reach our audience better if they were able to interact with the visualisation? The reason behind this can be captured in a very famous quote by Benjamin Franklin.\n",
    "\n",
    "> \"Tell me and I forget. Teach me and I remember. Involve me and I learn.\" ~ Benjamin Franklin\n",
    "\n",
    "If the goal of our visualisations is to teach something to our audience, chances are that allowing them to interact with our visualisation will do just that. Let's talk a bit more about static and interactive visualisations."
   ]
  },
  {
   "cell_type": "markdown",
   "metadata": {},
   "source": [
    "### 1.3.1 Static DataViz\n",
    "\n",
    "Static data visualisations are those meant to show one or several facts about the data in a specific way. They help us convey a message and are often used closely with other narratives. For example, the New York Times is one of the most famouss news agencies in the world not just for the top content they manage to create and provide to the masses, but also for the beautiful and informative visualisations one can find in their work.\n",
    "\n",
    "Static visualisations are also often embedded into inforgraphics to carry a message even further. Think about the graphs that are displayed in broshures that tell us to buy a fragance or a particular type of cutlery alongside a statistic, some often say \"75% of those who purchased these products have experienced...blah blah blah.\" Watch out for those! :)"
   ]
  },
  {
   "cell_type": "markdown",
   "metadata": {},
   "source": [
    "### 1.3.2 Interactive DataViz\n",
    "\n",
    "Interactive data visualisations tell different stories while letting the users pick which one they would like to see or understand better as they evaluate the information available. These kinds of visualisations can be very powerful tools not only to convey different messages at scale but also to provide top-notch educational content.\n",
    "\n",
    "Involving your audience through interactive visualisations can be a much more involved process though. A static visualisation can be saved and shared with many in a matter of minutes. Interactive visualisations, on the other hand, might require a web application to work and be displayed from, making it more difficult to show it to people on the go. Dashboards and other tools require a bit more work to be put together but can have a lot useful interactivity in them."
   ]
  },
  {
   "cell_type": "markdown",
   "metadata": {},
   "source": [
    "## 1.4 Do's\n",
    "\n",
    "When creating data visualisations, it is important to keep in mind the following Do's.\n",
    "\n",
    "- Label your axes where appropriate\n",
    "- Add a title\n",
    "- Use color appropriately. Showcase what you need, not every data point\n",
    "- Use full axis and maintain consistency with different graphs shown in parallel\n",
    "- Ask others for their opinion\n",
    "- Pass the squint test (blurry viz)\n",
    "\n",
    "## Dont's\n",
    "\n",
    "\n",
    "Just as there are many **Do's** in data visualisations, there are also many **DONT's**. Let go over a few of them together.\n",
    "\n",
    "1. Don't use too much color  \n",
    "<img src=\"https://clauswilke.com/dataviz/pitfalls_of_color_use_files/figure-html/popgrowth-US-rainbow-1.png\" alt=\"bad pie\" width=\"400\"/>   \n",
    "\n",
    "2. Don't use unmatching percentages  \n",
    "<img src=\"http://livingqlikview.com/wp-content/uploads/2017/04/Worst-Data-Visualizations-02.jpg\" alt=\"bad percentages\" width=\"400\"/>  \n",
    "\n",
    "3. Don't try to put everything in one graph  \n",
    "<img src=\"http://livingqlikview.com/wp-content/uploads/2017/04/Worst-Data-Visualizations-07.jpg\" alt=\"bad pie\" width=\"400\"/>  \n",
    "\n",
    "4. Trend lines need time not categories  \n",
    "<img src=\"http://livingqlikview.com/wp-content/uploads/2017/04/Worst-Data-Visualizations-03.jpg\" alt=\"bad lines\" width=\"400\"/>  \n",
    "\n",
    "5. Don't make your chart data unreadible  \n",
    "<img src=\"http://livingqlikview.com/wp-content/uploads/2017/04/Worst-Data-Visualizations-04.jpg\" alt=\"bad text\" width=\"400\"/>  \n",
    "\n",
    "6. Don't make no sense  \n",
    "<img src=\"https://i.insider.com/51cb1c3e69bedd713300000e?width=1200\" alt=\"bad sense\" width=\"400\"/>  \n",
    "\n",
    "7. Don't deceive your audience with different intervals and axes  \n",
    "<img src=\"https://i.insider.com/51cb25fa69beddcd4f000005?width=1200\" alt=\"bad intervals\" width=\"400\"/>  \n",
    "\n",
    "8. Axes betrayal  \n",
    "<img src=\"https://i.insider.com/51cb2721eab8ea1d33000004?width=1200\" alt=\"bad percentages\" width=\"400\"/>  \n",
    "\n",
    "\n",
    "**Source 1:** taken from Fundamentals of Data Visualization by Claus O. Wilke. Data source is US Census Bureau  \n",
    "**Source 2:** Figures 2, 3, 4, and 5 were taken from [QlikView](http://livingqlikview.com/the-9-worst-data-visualizations-ever-created/)  \n",
    "**Source 3:** Figures 6, 7, and 8 were taken from [Business Insider](https://www.businessinsider.com.au/the-27-worst-charts-of-all-time-2013-6?r=US&IR=T#did-anyone-learn-anything-by-looking-at-this-pseudo-pie-chart-what-do-these-colors-even-mean-why-is-it-divided-into-quadrants-well-never-know-1)"
   ]
  },
  {
   "cell_type": "markdown",
   "metadata": {},
   "source": [
    "# 2. Jupyter Lab/Notebook and Python\n",
    "\n",
    "## Jupyter\n",
    "\n",
    "JupyterLab is an [Integrated Development Environment](https://en.wikipedia.org/wiki/Integrated_development_environment) created by the [Jupyter Project](https://jupyter.org/). It allows you to combine different tools that are paramount for a good coding workflow. For example, you can have the terminal, a Jupyter notebook, and a markdown file for note-taking/documenting your work, as well as others, opened at the same time to improve your workflow as you write code (see image below).\n",
    "\n",
    "![jupyterlab](https://jupyterlab.readthedocs.io/en/stable/_images/jupyterlab.png)\n",
    "**Source** - [https://jupyterlab.readthedocs.io](https://jupyterlab.readthedocs.io)\n",
    "\n",
    "To run code you will use the following two commands:\n",
    "\n",
    "> # Shift + Enter\n",
    "\n",
    "and\n",
    "\n",
    "> # Alt + Enter  \n",
    "\n",
    "The first will run the cell and take you to the next one. If there is no cell underneath the one you just ran, it will insert a new one for you. The second one will run the cell and insert a new one below automatically. Alternatively, you can also run the cells using the play (▶︎) button at the top or with the _Run menu_ on the top left-hand corner.\n",
    "\n",
    "Anything that follows a hash `#` sign is a comment and will not be evaluated by Python. They are useful for documenting your code and letting others know what is happening with every line of code or with every cell.\n",
    "\n",
    "To check the information of a package, function, method, etc., use `?` or `??` at the begining or end of such element, and it will provide you with a lot of information about it.\n",
    "\n",
    "## Python\n",
    "\n",
    "Python is a general-purpose programming language that allows us to create programs, analyse data, create websites, create applications, and many other cool things. It is free and open-source, which means that anyone can contribute to its development and help make this language an even better one. This latter fact, along with the great readability of the language, are (to your host) two of the major contributing factors of Python's popularity.\n",
    "\n",
    "Python can be thought of as a person, we are very cool the way we are but to interact more efficiently we make use of \"add-ons\", and thus, so does Python. These add-ons may be clothes, shoes, accessories, slang words, and other physical objects such as cars, houses, boats, etc. In Python, our add-ons become additional programs other people have created in order to make a specific workflow easier.\n",
    "\n",
    "### Some Key Concepts in Python We'll Need 4 Today\n",
    "\n",
    "**Data Types**\n",
    "\n",
    "1. Strings --> Text or written data. e.g. \"this is a string\"\n",
    "2. Integers --> numbers without decimal places. e.g. 1, 2, 3, 4, 5, 6\n",
    "3. Floats --> numbers with decimal places. e.g. 3.5, 2.06, 7.9, 4.1\n",
    "4. Dates --> time-related object. e.g. 19-March-2020 18:00, 20-March-2020 12:30\n",
    "5. Boolean --> logical value that can be `True` or `False` and 1 or 0, respectively\n",
    "\n",
    "**Data Structures**\n",
    "1. Dataframe --> spreadshee-like object (literally), with rows and columns\n",
    "2. Series or Array --> a row or column in a spreadsheet, or a combination of the two"
   ]
  },
  {
   "cell_type": "markdown",
   "metadata": {},
   "source": [
    "# Let's Work Through Some Examples Together"
   ]
  },
  {
   "cell_type": "markdown",
   "metadata": {},
   "source": [
    "### Example 1\n",
    "\n",
    "Type your name inside quotation marks in the cell below and press `Shift + Enter`."
   ]
  },
  {
   "cell_type": "code",
   "execution_count": null,
   "metadata": {},
   "outputs": [],
   "source": []
  },
  {
   "cell_type": "code",
   "execution_count": null,
   "metadata": {},
   "outputs": [],
   "source": []
  },
  {
   "cell_type": "markdown",
   "metadata": {},
   "source": [
    "### Example 2\n",
    "\n",
    "- Type in the cell below the word `name` not inside quotation marks\n",
    "- Put the `=` sign right next to it\n",
    "- Type your name inside quotation marks to the right of the `=` sign\n",
    "- Press `Shift + Enter`"
   ]
  },
  {
   "cell_type": "code",
   "execution_count": null,
   "metadata": {},
   "outputs": [],
   "source": [
    "name = \"Ramon\""
   ]
  },
  {
   "cell_type": "code",
   "execution_count": null,
   "metadata": {},
   "outputs": [],
   "source": [
    "print(name)"
   ]
  },
  {
   "cell_type": "markdown",
   "metadata": {},
   "source": [
    "### Example 3\n",
    "\n",
    "- Type in the cell below the word `name` not inside quotation marks\n",
    "- Put the `=` sign right next to it\n",
    "- Type your name inside quotation marks to the right of the `=` sign\n",
    "- Press `Shift + Enter`"
   ]
  },
  {
   "cell_type": "code",
   "execution_count": null,
   "metadata": {},
   "outputs": [],
   "source": [
    "last_name = 'Perez'"
   ]
  },
  {
   "cell_type": "code",
   "execution_count": null,
   "metadata": {},
   "outputs": [],
   "source": [
    "print(last_name)"
   ]
  },
  {
   "cell_type": "markdown",
   "metadata": {},
   "source": [
    "### Example 4\n",
    "\n",
    "- Subtract five from ten in the cell below\n",
    "- Press `Shift + Enter`"
   ]
  },
  {
   "cell_type": "code",
   "execution_count": null,
   "metadata": {},
   "outputs": [],
   "source": []
  },
  {
   "cell_type": "markdown",
   "metadata": {},
   "source": [
    "### Example 5\n",
    "\n",
    "- Add nine to five in the cell below\n",
    "- Press `Shift + Enter`"
   ]
  },
  {
   "cell_type": "code",
   "execution_count": null,
   "metadata": {},
   "outputs": [],
   "source": []
  },
  {
   "cell_type": "markdown",
   "metadata": {},
   "source": [
    "# 3. Our Project 4 Tonight\n",
    "\n",
    "> The Goal: To Analyse and Improve our Workout Habits\n",
    "\n",
    "Say you have always exercised at least 5 days per week, or that, since last year, your New Year's resolution was to exercise for at least 5 days a week throughout the entire year. This being a completely novel endeavor for you, something no one else picks during New Year's (😎), you decide it would good to also track your progress throughout the year to understand what your workout routines and habits look like. You also want to come up with a a few hypotheses to test using your own data, we will do that another time though.\n",
    "\n",
    "Here is a picture of me on day 1\n",
    "\n",
    "![day1](https://media.giphy.com/media/13Lwn87rxZSUVi/giphy.gif)\n",
    "\n",
    "also me on day 2\n",
    "\n",
    "![day2](https://media.giphy.com/media/ewelN8qzxQqNG/giphy.gif)"
   ]
  },
  {
   "cell_type": "markdown",
   "metadata": {},
   "source": [
    "# 4. The Data We'll Use\n",
    "\n",
    "Now that we have our task defined, we can move on to gathering the data we will need for our project. In my case, I have a Garmin watch and I went through the following steps to extract a comma separated values file from it.\n",
    "\n",
    "- Go to Garmin [__Garmin Connect__](https://connect.garmin.com/signin)\n",
    "- Sign in with your username and password\n",
    "- Go to the activities section and click on All Activities\n",
    "- Exporting the data gets a bit tricky here because Garmin will only export items that have already loaded, so in order to get all of your data, scroll all the way down to the very end of all of your activities.\n",
    "- Once you reach the last one, click on the Export CSV button at the top right hand corner. You will see a Activities.csv file in your downloads folder.\n",
    "**NOTE:** Garmin tracks much more data than what you will download from Garmin Connect but the format is not as user-friendly as what you would get using these steps.\n",
    "\n",
    "Depending on which smartwatch or smartphone you have, there will be different ways to access your data."
   ]
  },
  {
   "cell_type": "markdown",
   "metadata": {},
   "source": [
    "# 5. Interrogating the Data one Visualization at a Time\n",
    "\n",
    "The first thing we want to do is to import into our session, some external packages available in the Python ecosystem."
   ]
  },
  {
   "cell_type": "code",
   "execution_count": null,
   "metadata": {},
   "outputs": [],
   "source": [
    "import pandas as pd\n",
    "import altair as alt\n",
    "pd.set_option('display.max_columns', None)"
   ]
  },
  {
   "cell_type": "markdown",
   "metadata": {},
   "source": [
    "We will then read in the data using the pandas package we imported above and assign it to a variable. You can thing of a variable as a column in Excel, a container, or a bucket, that will hold, and give a name to, whathever piece of information you are working with."
   ]
  },
  {
   "cell_type": "code",
   "execution_count": null,
   "metadata": {},
   "outputs": [],
   "source": [
    "df = pd.read_csv('workouts_data.csv')"
   ]
  },
  {
   "cell_type": "markdown",
   "metadata": {},
   "source": [
    "Now that we have loaded our data into memory, we can examine it by viewing a few rows of it using what is called a method. You can think of methods as the behavior of an object in Python. For example, the behavior of a stove is that it gets hot if we turn it on and it is cold if it is off. The behavior of our variable `df` when we apply the method `.head()` is that it returns a small view of our data for us."
   ]
  },
  {
   "cell_type": "code",
   "execution_count": null,
   "metadata": {},
   "outputs": [],
   "source": [
    "df.head()"
   ]
  },
  {
   "cell_type": "markdown",
   "metadata": {},
   "source": [
    "### Example 6\n",
    "\n",
    "Try using the method `.tail()` with our variable `df` in the cell below."
   ]
  },
  {
   "cell_type": "code",
   "execution_count": null,
   "metadata": {},
   "outputs": [],
   "source": []
  },
  {
   "cell_type": "markdown",
   "metadata": {},
   "source": [
    "### First Question\n",
    "\n",
    "**Regardless of the year, what is the average amount of calories that I tend to burn per month?**\n",
    "\n",
    "Things to keep in mind:\n",
    "1. We need a measure of calories in a numerical format\n",
    "2. We need a measure of time in terms of months"
   ]
  },
  {
   "cell_type": "code",
   "execution_count": null,
   "metadata": {},
   "outputs": [],
   "source": [
    "# bare bones visual display\n",
    "\n",
    "alt.Chart(df).mark_line().encode(\n",
    "    x='month',\n",
    "    y='calories'\n",
    ")"
   ]
  },
  {
   "cell_type": "code",
   "execution_count": null,
   "metadata": {},
   "outputs": [],
   "source": [
    "# agregation of one measure\n",
    "\n",
    "alt.Chart(df).mark_line().encode(\n",
    "    x='month',\n",
    "    y='mean(calories)'\n",
    ")"
   ]
  },
  {
   "cell_type": "code",
   "execution_count": null,
   "metadata": {},
   "outputs": [],
   "source": [
    "# adding useful elements to our chart\n",
    "\n",
    "alt.Chart(df).mark_line().encode(\n",
    "    x='month',\n",
    "    y='mean(calories)',\n",
    "    tooltip=['mean(calories)']\n",
    ").properties(title=\"Average Calories Burned per Month\")"
   ]
  },
  {
   "cell_type": "markdown",
   "metadata": {},
   "source": [
    "### Answer\n",
    "\n",
    "It seems that October is the month of the year where I burn the most amount of calories with 284.81 on average per day.\n",
    "\n",
    "![hell_yeah](https://media.giphy.com/media/jErnybNlfE1lm/giphy.gif)"
   ]
  },
  {
   "cell_type": "markdown",
   "metadata": {},
   "source": [
    "Let's untagle what just happened.\n",
    "\n",
    "A chart is a layered representation of information where we need:\n",
    "- **`data`** and,\n",
    "- a way to **`represent`** the information we want to visualize from the data and, \n",
    "- a way to **`encode`** what we are interested in to the elements of the chart.\n",
    "\n",
    "In other words:\n",
    "- `alt` is the abbreviation of the name of the python package we are using to create the visualization and from it we can create a\n",
    "- `Chart` object to which we get to pass our variable containing the data called `df`. To represent the data we want we use\n",
    "- `mark_line()` which helps us visualize our data of interest as a line instead of a circle, square, and what not. We then\n",
    "- `encode` the information we are interested in into\n",
    "- `x` (the months) and\n",
    "- `y` (the average amount of calories) coordinates. Lastly, our chart needs\n",
    "- `properties` such as a title to convey the appropriate message."
   ]
  },
  {
   "cell_type": "markdown",
   "metadata": {},
   "source": [
    "## Example 2\n",
    "\n",
    "**Are the kilometers I run corelated with the amount of calories I burn?**\n",
    "\n",
    "Things to keep in mind:\n",
    "- We need two quantitative measures.\n",
    "- They don't necesarily need to be in the same scale (e.g. kilometers vs miles, farenheit to celcius) but sometimes that is helpful.\n",
    "- We can plot to quantitative variables using points or circles. This type of visualization is called a scatter plot.\n",
    "\n",
    "> _\"A scatter plot is a type of plot or mathematical diagram using Cartesian coordinates to display values for typically two variables for a set of data. If the points are coded (color/shape/size), one additional variable can be displayed.\"_ ~ [Wikipedia](https://en.wikipedia.org/wiki/Scatter_plot)"
   ]
  },
  {
   "cell_type": "code",
   "execution_count": null,
   "metadata": {},
   "outputs": [],
   "source": [
    "alt.Chart(df).mark_point().encode(\n",
    "    x='distance',\n",
    "    y='calories'\n",
    ")"
   ]
  },
  {
   "cell_type": "markdown",
   "metadata": {},
   "source": [
    "### Answer\n",
    "\n",
    "They are are **indeed** positively correlated.\n",
    "\n",
    "![indeed](https://external-content.duckduckgo.com/iu/?u=http%3A%2F%2Fs2.quickmeme.com%2Fimg%2F8f%2F8f1698edb1bc274a9111cb1fb38b72c4401828685a458f714f052f875dde16e5.jpg&f=1&nofb=1)\n",
    "\n",
    "What is correlation anyways?\n",
    "\n",
    "> \"In statistics, correlation is the degree to which two or more attributes or measurements on the same group of elements show a tendency to vary together.\" ~ [Dictionary.com](https://www.dictionary.com/browse/correlation)"
   ]
  },
  {
   "cell_type": "markdown",
   "metadata": {},
   "source": [
    "## Example 3\n",
    "\n",
    "Can we explore the calories vs distance further? More specifically,\n",
    "\n",
    "1. Can we zoom into the most productive workouts?\n",
    "2. Can we split all workouts by the time of day in which they occured?\n",
    "\n",
    "Things to keep in mind:\n",
    "- To answer this questions we could take advantage of interactivity in our chart to change the story as we go, in addition\n",
    "- We will need to split our quantitative variables by a categorical variable.\n",
    "- If you recall from the table above, categorical variables can be Nominal (no order is implied) and Ordinal (order matters). For example, gender is a nominal variable (female, male, other), the temperature on food is ordinal (hot, mild, cold)."
   ]
  },
  {
   "cell_type": "code",
   "execution_count": null,
   "metadata": {},
   "outputs": [],
   "source": [
    "# adding interactivity\n",
    "\n",
    "alt.Chart(df).mark_point().encode(\n",
    "    x='distance',\n",
    "    y='calories'\n",
    ").interactive()"
   ]
  },
  {
   "cell_type": "code",
   "execution_count": null,
   "metadata": {},
   "outputs": [],
   "source": [
    "# adding interactivity and a categorical variable\n",
    "\n",
    "alt.Chart(df).mark_point().encode(\n",
    "    x='distance',\n",
    "    y='calories',\n",
    "    color='time_day'\n",
    ").interactive()"
   ]
  },
  {
   "cell_type": "code",
   "execution_count": null,
   "metadata": {},
   "outputs": [],
   "source": [
    "# adding interactivity, a categorical variable and tooltip\n",
    "\n",
    "alt.Chart(df).mark_point().encode(\n",
    "    x='distance',\n",
    "    y='calories',\n",
    "    color='time_day',\n",
    "    tooltip=['calories', 'distance', 'activity_type', 'time_day']\n",
    ").properties(\n",
    "    title='Calories Burned vs Distance by Time of Day',\n",
    "\n",
    ").interactive()"
   ]
  },
  {
   "cell_type": "markdown",
   "metadata": {},
   "source": [
    "### Answer\n",
    "\n",
    "By splitting the data by the categorical variable `time_of_day` we were able to separate the distance run by the time of the day in which it occured. This allowed us to figure out that the workouts in which the most calories were burned were in the afternoon, followed by the evening."
   ]
  },
  {
   "cell_type": "markdown",
   "metadata": {},
   "source": [
    "## Example 4\n",
    "\n",
    "Let's make things a bit more interesting, what is the relationship between calories & distance and calories & temperature. Also, it would be great to see the temperature split by the buckets (e.g. hot, normal, hot).\n",
    "\n",
    "Things to keep in mind:\n",
    "- We can also concatenate chart that share and axis. In our case, we want two charts sharing the calories in the y axis.\n",
    "- Out x axes will contain our two other quantitative variables.\n",
    "- We will need to split our variables by a categorical variable again."
   ]
  },
  {
   "cell_type": "code",
   "execution_count": null,
   "metadata": {},
   "outputs": [],
   "source": [
    "interval = alt.selection_interval(zoom=True)"
   ]
  },
  {
   "cell_type": "code",
   "execution_count": null,
   "metadata": {},
   "outputs": [],
   "source": [
    "colorscale = alt.Scale(domain=['Cold (<14C)', 'Normal (14-23C)', 'Hot (>23C)'],\n",
    "                       range=['blue', 'orange', 'red'])"
   ]
  },
  {
   "cell_type": "code",
   "execution_count": null,
   "metadata": {},
   "outputs": [],
   "source": [
    "chart1 = alt.Chart(df).mark_point().encode(\n",
    "    x='distance',\n",
    "    y='temperature',\n",
    "    color=alt.condition(interval, 'temp_buckets', alt.value('lightgray'), scale=colorscale),\n",
    "    tooltip=['activity_type', 'temperature']\n",
    ").properties(\n",
    "    selection=interval\n",
    ")"
   ]
  },
  {
   "cell_type": "code",
   "execution_count": null,
   "metadata": {},
   "outputs": [],
   "source": [
    "chart1 | chart1.encode(x='calories')"
   ]
  },
  {
   "cell_type": "markdown",
   "metadata": {},
   "source": [
    "### Answer\n",
    "\n",
    "A quick glanse at the data tells us that workouts tend to happen mostly during hot days with very few instances happening below 15 C. In addition, the longest distance run and the most amount of calories burned happened at 23C.\n",
    "\n",
    "We can also see that the amount of workouts, and also their intensity, diminish significantly above 30C.\n",
    "\n",
    "My favorite workout weathers be like 🥵 \n",
    "\n",
    "![hot](https://external-content.duckduckgo.com/iu/?u=https%3A%2F%2Fs-media-cache-ak0.pinimg.com%2F736x%2F24%2F9e%2Fc4%2F249ec4f0b9312b25eaf22551c3b1ba47--art-installations-installation-art.jpg&f=1&nofb=1)"
   ]
  },
  {
   "cell_type": "markdown",
   "metadata": {},
   "source": [
    "## Example 5\n",
    "\n",
    "What does the frequency of my workouts look like by the day of the week?\n",
    "\n",
    "Things to keep in mind:\n",
    "- We need a categorical variable with the days of the week.\n",
    "- We need to count how many times they appear in out dataset."
   ]
  },
  {
   "cell_type": "code",
   "execution_count": null,
   "metadata": {},
   "outputs": [],
   "source": [
    "alt.Chart(df).mark_bar().encode(\n",
    "    x='day_of_week',\n",
    "    y='count()'\n",
    ").properties(\n",
    "    width=300,\n",
    "    height=500,\n",
    "    title=\"Frequency of Workouts by Day of The Week\"\n",
    ")"
   ]
  },
  {
   "cell_type": "markdown",
   "metadata": {},
   "source": [
    "### Answer\n",
    "\n",
    "It seems that most of my workouts take place on Thursdays and followed by Mondays.\n",
    "\n",
    "You know what they say on Th(irst)days\n",
    "\n",
    "![thirsday](https://external-content.duckduckgo.com/iu/?u=https%3A%2F%2Flaughtard.com%2Fwp-content%2Fuploads%2F2017%2F02%2Ff538f78cf2e7e59db9ba5242f5653539.jpg&f=1&nofb=1)"
   ]
  },
  {
   "cell_type": "markdown",
   "metadata": {},
   "source": [
    "## Example 6\n",
    "\n",
    "What happens to my average heart rate as I run further and further? Better yet, can I view this alongside the frequency of workouts between the different times of the day at which I worked out?\n",
    "\n",
    "Things to keep in mind:\n",
    "- We need a mix of variables in different charts, concatenated with each other\n",
    "- We need to connect several filters together"
   ]
  },
  {
   "cell_type": "code",
   "execution_count": null,
   "metadata": {},
   "outputs": [],
   "source": [
    "interval = alt.selection_interval(encodings=['x'], zoom=True)\n",
    "\n",
    "chart = alt.Chart(df).mark_point().encode(\n",
    "    x='distance',\n",
    "    y='calories',\n",
    "    color=alt.condition(interval, 'time_day', alt.value('lightgray')),\n",
    ").properties(\n",
    "    selection=interval\n",
    ")\n",
    "\n",
    "hist = alt.Chart(df).mark_bar().encode(\n",
    "    x='count()',\n",
    "    y='time_day',\n",
    "    color='time_day'\n",
    ").transform_filter(\n",
    "    interval\n",
    ")\n",
    "\n",
    "chart & hist"
   ]
  },
  {
   "cell_type": "markdown",
   "metadata": {},
   "source": [
    "### Answer\n",
    "\n",
    "Nightly workouts only surpass the afternoon ones at a small interval of time. Morning workouts are definitely not a thing for me."
   ]
  },
  {
   "cell_type": "markdown",
   "metadata": {},
   "source": [
    "## Example 7\n",
    "\n",
    "Where have I done the most, the least, and all in between, Ks during a workout.\n",
    "\n",
    "Things to keep in mind:\n",
    "- We need the distribution of a quantitative variable, split by the title of a workout."
   ]
  },
  {
   "cell_type": "code",
   "execution_count": null,
   "metadata": {},
   "outputs": [],
   "source": [
    "alt.Chart(df).mark_boxplot().encode(\n",
    "    x=alt.X('title:N', axis=alt.Axis(labelAngle=-45)),\n",
    "    y='distance:Q'\n",
    ").properties(\n",
    "    width=500,\n",
    "    height=500,\n",
    "    title=\"Distance Distribution of Workouts per Location and Type\"\n",
    ")"
   ]
  },
  {
   "cell_type": "markdown",
   "metadata": {},
   "source": [
    "### Answer\n",
    "\n",
    "Sydney is definitely pushing my limits, but KC and Santiago have kept me going the longest and farthest."
   ]
  },
  {
   "cell_type": "markdown",
   "metadata": {},
   "source": [
    "## Example 8\n",
    "\n",
    "What does the distribution of my workouts look like when I split them by the quarter of the year in which each workout took place?\n",
    "\n",
    "Things to keep in mind:\n",
    "- We need the distribution of a quantitative variable, split by the quarter of the year in which the workout took place."
   ]
  },
  {
   "cell_type": "code",
   "execution_count": null,
   "metadata": {},
   "outputs": [],
   "source": [
    "alt.Chart(df).mark_bar().encode(\n",
    "    x='calories:Q',\n",
    "    y='activity_type',\n",
    "    color='quarter:O'\n",
    ")"
   ]
  },
  {
   "cell_type": "markdown",
   "metadata": {},
   "source": [
    "### Answer\n",
    "\n",
    "Most of what I do (or track for that matter) is running, whether outside or on a threadmill.\n"
   ]
  },
  {
   "cell_type": "markdown",
   "metadata": {},
   "source": [
    "# 6. Next Steps"
   ]
  },
  {
   "cell_type": "markdown",
   "metadata": {},
   "source": [
    "Here is a non-exhaustive list of things to keep in mind when creating visualisations with data. This list was created by Nicolas P. Rougier and it can be found in his article called, \"_[Ten Simple Rules for Better Figures](https://journals.plos.org/ploscompbiol/article?id=10.1371/journal.pcbi.1003833)_\".\n",
    "\n",
    "- Rule 1: Know Your Audience\n",
    "- Rule 2: Identify Your Message\n",
    "- Rule 3: Adapt the Figure to the Support Medium\n",
    "- Rule 4: Captions Are Not Optional\n",
    "- Rule 5: Do Not Trust the Defaults\n",
    "- Rule 6: Use Color Effectively\n",
    "- Rule 7: Do Not Mislead the Reader\n",
    "- Rule 8: Avoid “Chartjunk”\n",
    "- Rule 10: Get the Right Tool\n",
    "\n",
    "We have learned a lot in this lesson so let's summarise a few of the most important concepts.\n",
    "\n",
    "- Data visualisation is great for exploring our datasets\n",
    "- It allows us to see interesting patterns in the data that might not be visible upon first inspection\n",
    "- Satatic graphs are great for telling a story from one angle\n",
    "- Interactive visualisations are great for involving the audience with the message we are trying to convey as well as for ourselves to change the story as we please\n",
    "- Python has excelent tools for visualisation and [Altair](https://altair-viz.github.io/index.html) is just one of them\n",
    "\n",
    "To feed your curiosity.\n",
    "\n",
    "### Python\n",
    "- [holoviews](http://holoviews.org/index.html) --> similar to bokeh but easier to use\n",
    "- [datashader](https://datashader.org/) --> great for massive datasets\n",
    "\n",
    "### Favourite Visualisation Websites\n",
    "\n",
    "- [FlowingData](flowingdata.com)\n",
    "- [Information is Beautiful](https://www.informationisbeautifulawards.com/)\n",
    "- [eagereyes](https://eagereyes.org/)\n",
    "\n",
    "### How to...? Websites\n",
    "- [Python Graph Gallery](https://python-graph-gallery.com/)\n",
    "- [Drawing from Data](https://www.drawingfromdata.com)\n",
    "\n",
    "### Data Visualisation Experts You Might Want to Know About\n",
    "- [Jan Willem](http://tulpinteractive.com/)\n",
    "- [Christian Laesser](https://christianlaesser.com/)\n",
    "- [Andy Kirk](https://www.visualisingdata.com/)\n",
    "- [Eduard Tufte](https://www.edwardtufte.com/tufte/)\n",
    "- [Alberto Cairo](http://albertocairo.com/)\n",
    "\n",
    "\n",
    "__For your next learning steps you could:__\n",
    "- learn python programming fundamentals\n",
    "- learn how to clean and wrangle data prior to analysing it\n",
    "- take an in-depth data analytics course and make sure you work on your own custom analyses while doing so\n",
    "- ask for feedback\n",
    "- repeat"
   ]
  }
 ],
 "metadata": {
  "kernelspec": {
   "display_name": "Python 3",
   "language": "python",
   "name": "python3"
  },
  "language_info": {
   "codemirror_mode": {
    "name": "ipython",
    "version": 3
   },
   "file_extension": ".py",
   "mimetype": "text/x-python",
   "name": "python",
   "nbconvert_exporter": "python",
   "pygments_lexer": "ipython3",
   "version": "3.9.5"
  }
 },
 "nbformat": 4,
 "nbformat_minor": 4
}
